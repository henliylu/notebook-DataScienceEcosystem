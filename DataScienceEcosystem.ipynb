{
 "cells": [
  {
   "cell_type": "markdown",
   "id": "9e75ae8f-1a9f-4a8d-84fc-d1ac28f18e05",
   "metadata": {},
   "source": [
    "# Data Science Tools and Ecosystem"
   ]
  },
  {
   "cell_type": "markdown",
   "id": "ee9c6253-63dd-47a4-8809-09fa7d91fcd8",
   "metadata": {},
   "source": [
    "**在这个 notebook 中，汇总了数据科学工具和生态系统。**"
   ]
  },
  {
   "cell_type": "markdown",
   "id": "2717d2fc-c63b-4bf4-834a-95b6eacea19b",
   "metadata": {},
   "source": [
    "一些数据科学家使用的流行语言包括：\n",
    "1. Python\n",
    "2. R\n",
    "3. Java\n",
    "4. Scala"
   ]
  },
  {
   "cell_type": "markdown",
   "id": "574958ea-5e5d-4e1b-bd2e-502a869eb326",
   "metadata": {},
   "source": [
    "一些数据科学家常用的库包括：\n",
    "1. Pandas\n",
    "2. mathplotlib\n",
    "3. Scipy\n",
    "4. SeaBorn\n",
    "5. Numpy\n",
    "6. pySpark\n",
    "7. Dask\n",
    "8. Pyflink\n",
    "9. pysql"
   ]
  },
  {
   "cell_type": "markdown",
   "id": "cbf238f4-28ed-41ad-9540-ec98f2957d83",
   "metadata": {},
   "source": [
    "|Data Science Tools|\n",
    "|:---:|\n",
    "|JupyterNotebook|\n",
    "|Kettle|\n",
    "|Rstudio|"
   ]
  },
  {
   "cell_type": "markdown",
   "id": "03f60549-e1db-4ba2-b062-9cac59aabe7c",
   "metadata": {},
   "source": [
    "### 以下是一些在 Python 中评估算术表达式的示例"
   ]
  },
  {
   "cell_type": "code",
   "execution_count": 5,
   "id": "7c3dee89-82b5-4c5c-8b9b-f3cb6c0f670d",
   "metadata": {},
   "outputs": [
    {
     "data": {
      "text/plain": [
       "17"
      ]
     },
     "execution_count": 5,
     "metadata": {},
     "output_type": "execute_result"
    }
   ],
   "source": [
    "## 这是一个简单的算术表达式，用于先乘后加整数\n",
    "(3*4)+5"
   ]
  },
  {
   "cell_type": "code",
   "execution_count": 7,
   "id": "4d1463f1-f51a-417f-8244-d0f2e33e80c4",
   "metadata": {},
   "outputs": [
    {
     "data": {
      "text/plain": [
       "3.3333333333333335"
      ]
     },
     "execution_count": 7,
     "metadata": {},
     "output_type": "execute_result"
    }
   ],
   "source": [
    "# 这将通过除以 60 将 200 分钟转换为小时\n",
    "time_min = 200\n",
    "time_min/60\n"
   ]
  },
  {
   "cell_type": "markdown",
   "id": "7b9f14bc-cbd4-4f5b-9262-698119a790aa",
   "metadata": {},
   "source": [
    "**目标**\n",
    "- Python\n",
    "- R\n",
    "- BussinessIntelligence\n",
    "- ETL\n",
    "- MachineLearning"
   ]
  },
  {
   "cell_type": "markdown",
   "id": "98aa92ac-3083-4fac-a8fc-0744bbf41498",
   "metadata": {},
   "source": [
    "## 作者\n",
    "Yaheng Lu"
   ]
  }
 ],
 "metadata": {
  "kernelspec": {
   "display_name": "Python 3 (ipykernel)",
   "language": "python",
   "name": "python3"
  },
  "language_info": {
   "codemirror_mode": {
    "name": "ipython",
    "version": 3
   },
   "file_extension": ".py",
   "mimetype": "text/x-python",
   "name": "python",
   "nbconvert_exporter": "python",
   "pygments_lexer": "ipython3",
   "version": "3.12.8"
  }
 },
 "nbformat": 4,
 "nbformat_minor": 5
}
